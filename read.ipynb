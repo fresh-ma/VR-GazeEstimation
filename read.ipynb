{
 "cells": [
  {
   "cell_type": "code",
   "execution_count": 1,
   "metadata": {},
   "outputs": [
    {
     "name": "stdout",
     "output_type": "stream",
     "text": [
      "Extracted floats: [3.9226877689361572, 4.922585487365723, 5.8019185066223145, 6.0250983238220215, 6.636205196380615, 5.929908752441406, 5.244399070739746, 6.9259257316589355, 6.465836524963379, 7.456762313842773, 6.487929821014404, 6.1934428215026855, 6.089595794677734, 6.231197357177734, 5.353466033935547]\n"
     ]
    }
   ],
   "source": [
    "import os\n",
    "import re\n",
    "\n",
    "# 文件路径模板\n",
    "base_path = \"/root/autodl-tmp/VR-GazeEstimation/experiments/mpiigaze/gaze_net/exp00\"\n",
    "error_file_template = \"{:02d}/eval/checkpoint_0015/error.txt\"\n",
    "\n",
    "def read_float_from_file(file_path):\n",
    "    \"\"\"读取文件中的浮点数\"\"\"\n",
    "    with open(file_path, 'r') as f:\n",
    "        content = f.read()\n",
    "    # 提取文件中的浮点数\n",
    "    match = re.search(r\"[-+]?\\d*\\.\\d+|\\d+\", content)\n",
    "    if match:\n",
    "        return float(match.group())\n",
    "    else:\n",
    "        raise ValueError(f\"No float found in file: {file_path}\")\n",
    "\n",
    "def read_all_floats():\n",
    "    \"\"\"读取 00-14 文件夹下的所有浮点数\"\"\"\n",
    "    float_values = []\n",
    "    for i in range(15):  # 从 00 到 14\n",
    "        folder_path = os.path.join(base_path, error_file_template.format(i))\n",
    "        try:\n",
    "            value = read_float_from_file(folder_path)\n",
    "            float_values.append(value)\n",
    "        except FileNotFoundError:\n",
    "            print(f\"File not found: {folder_path}\")\n",
    "        except ValueError as e:\n",
    "            print(e)\n",
    "    return float_values\n",
    "\n",
    "if __name__ == \"__main__\":\n",
    "    floats = read_all_floats()\n",
    "    print(\"Extracted floats:\", floats)\n",
    "    l = floats\n"
   ]
  },
  {
   "cell_type": "code",
   "execution_count": 2,
   "metadata": {},
   "outputs": [
    {
     "name": "stdout",
     "output_type": "stream",
     "text": [
      "5.979130633672079\n",
      "3.92\n",
      "4.92\n",
      "5.8\n",
      "6.03\n",
      "6.64\n",
      "5.93\n",
      "5.24\n",
      "6.93\n",
      "6.47\n",
      "7.46\n",
      "6.49\n",
      "6.19\n",
      "6.09\n",
      "6.23\n",
      "5.35\n"
     ]
    }
   ],
   "source": [
    "# l = [3.708198308944702, 4.5273003578186035, 5.996498107910156, 5.1098313331604, 6.517906188964844, 6.235100746154785, 5.804547309875488, 6.4531731605529785, 6.188497543334961, 6.328239440917969, 5.663725852966309, 6.374012470245361, 5.4252400398254395, 5.899938583374023, 5.8405232429504395]\n",
    "# l = [4.400444984436035, 5.944856643676758, 6.304597854614258, 6.547239780426025, 5.9215922355651855, 6.358123779296875, 5.789661407470703, 7.8399271965026855, 6.616201877593994, 7.963759899139404, 6.8554887771606445, 5.831138610839844, 6.094172477722168, 6.662156105041504, 6.03120231628418]\n",
    "import numpy as np\n",
    "l = np.array(l)\n",
    "print(l.mean())\n",
    "\n",
    "for i in l:\n",
    "    print(round(i, 2))"
   ]
  },
  {
   "cell_type": "code",
   "execution_count": null,
   "metadata": {},
   "outputs": [
    {
     "ename": "ModuleNotFoundError",
     "evalue": "No module named 'matplotlib'",
     "output_type": "error",
     "traceback": [
      "\u001b[0;31m---------------------------------------------------------------------------\u001b[0m",
      "\u001b[0;31mModuleNotFoundError\u001b[0m                       Traceback (most recent call last)",
      "Cell \u001b[0;32mIn[3], line 2\u001b[0m\n\u001b[1;32m      1\u001b[0m \u001b[38;5;28;01mimport\u001b[39;00m \u001b[38;5;21;01mnumpy\u001b[39;00m \u001b[38;5;28;01mas\u001b[39;00m \u001b[38;5;21;01mnp\u001b[39;00m\n\u001b[0;32m----> 2\u001b[0m \u001b[38;5;28;01mimport\u001b[39;00m \u001b[38;5;21;01mmatplotlib\u001b[39;00m\u001b[38;5;21;01m.\u001b[39;00m\u001b[38;5;21;01mpyplot\u001b[39;00m \u001b[38;5;28;01mas\u001b[39;00m \u001b[38;5;21;01mplt\u001b[39;00m\n\u001b[1;32m      4\u001b[0m \u001b[38;5;66;03m# Data from the table\u001b[39;00m\n\u001b[1;32m      5\u001b[0m person_ids \u001b[38;5;241m=\u001b[39m np\u001b[38;5;241m.\u001b[39marange(\u001b[38;5;241m15\u001b[39m)\n",
      "\u001b[0;31mModuleNotFoundError\u001b[0m: No module named 'matplotlib'"
     ]
    }
   ],
   "source": [
    "import numpy as np\n",
    "import matplotlib.pyplot as plt\n",
    "\n",
    "# Data from the table\n",
    "person_ids = np.arange(15)\n",
    "lenet_errors = [4.40, 5.94, 6.3, 6.55, 5.92, 6.36, 5.79, 7.84, 6.62, 7.96, 6.86, 5.83, 6.09, 6.66, 6.03]\n",
    "resnet_errors = [3.71, 4.53, 6.00, 5.11, 6.52, 6.24, 5.80, 6.45, 6.19, 6.33, 5.66, 6.37, 5.43, 5.90, 5.84]\n",
    "gazenet_errors = [3.92, 4.92, 5.8, 6.03, 6.64, 5.93, 5.24, 6.93, 6.47, 7.46, 6.49, 6.19, 6.09, 6.23, 5.35]\n",
    "\n",
    "# Average errors\n",
    "lenet_avg = np.mean(lenet_errors)\n",
    "resnet_avg = np.mean(resnet_errors)\n",
    "gazenet_avg = np.mean(gazenet_errors)\n",
    "\n",
    "# Bar width and positions\n",
    "bar_width = 0.25\n",
    "positions = np.arange(len(person_ids))\n",
    "\n",
    "# Plotting the bar chart\n",
    "plt.figure(figsize=(12, 6))\n",
    "\n",
    "plt.bar(positions - bar_width, lenet_errors, bar_width, label='LeNet', color='skyblue')\n",
    "plt.bar(positions, resnet_errors, bar_width, label='ResNet-preact-8', color='lightgreen')\n",
    "plt.bar(positions + bar_width, gazenet_errors, bar_width, label='GazeNet (Small epoch)', color='salmon')\n",
    "\n",
    "# Plotting average lines\n",
    "plt.plot([-0.5, 14.5], [lenet_avg, lenet_avg], color='skyblue', linestyle='--', linewidth=1.5)\n",
    "plt.plot([-0.5, 14.5], [resnet_avg, resnet_avg], color='lightgreen', linestyle='--', linewidth=1.5)\n",
    "plt.plot([-0.5, 14.5], [gazenet_avg, gazenet_avg], color='salmon', linestyle='--', linewidth=1.5)\n",
    "plt.plot([-0.5, 14.5], [5.5, 5.5], color='black', linestyle='.', label='GazeNet (Full Epoch)', linewidth=3)\n",
    "\n",
    "# Adding labels and legend\n",
    "plt.xlabel('Person ID')\n",
    "plt.ylabel('Mean Test Angle Error [degree]')\n",
    "plt.title('Comparison of Test Angle Errors across Models')\n",
    "plt.xticks(positions, person_ids)\n",
    "plt.legend()\n",
    "\n",
    "# Show the plot\n",
    "plt.tight_layout()\n",
    "plt.show()\n"
   ]
  },
  {
   "cell_type": "code",
   "execution_count": null,
   "metadata": {},
   "outputs": [
    {
     "name": "stdout",
     "output_type": "stream",
     "text": [
      "Looking in indexes: http://mirrors.aliyun.com/pypi/simple\n",
      "Collecting matplotlib\n",
      "  Downloading http://mirrors.aliyun.com/pypi/packages/30/33/cc27211d2ffeee4fd7402dca137b6e8a83f6dcae3d4be8d0ad5068555561/matplotlib-3.7.5-cp38-cp38-manylinux_2_12_x86_64.manylinux2010_x86_64.whl (9.2 MB)\n",
      "\u001b[2K     \u001b[90m━━━━━━━━━━━━━━━━━━━━━━━━━━━━━━━━━━━━━━━━\u001b[0m \u001b[32m9.2/9.2 MB\u001b[0m \u001b[31m699.1 kB/s\u001b[0m eta \u001b[36m0:00:00\u001b[0m00:01\u001b[0m00:01\u001b[0m\n",
      "\u001b[?25hCollecting contourpy>=1.0.1 (from matplotlib)\n",
      "  Downloading http://mirrors.aliyun.com/pypi/packages/8e/71/7f20855592cc929bc206810432b991ec4c702dc26b0567b132e52c85536f/contourpy-1.1.1-cp38-cp38-manylinux_2_17_x86_64.manylinux2014_x86_64.whl (301 kB)\n",
      "Collecting cycler>=0.10 (from matplotlib)\n",
      "  Downloading http://mirrors.aliyun.com/pypi/packages/e7/05/c19819d5e3d95294a6f5947fb9b9629efb316b96de511b418c53d245aae6/cycler-0.12.1-py3-none-any.whl (8.3 kB)\n"
     ]
    }
   ],
   "source": [
    "pip install matplotlib"
   ]
  }
 ],
 "metadata": {
  "kernelspec": {
   "display_name": "vr",
   "language": "python",
   "name": "python3"
  },
  "language_info": {
   "codemirror_mode": {
    "name": "ipython",
    "version": 3
   },
   "file_extension": ".py",
   "mimetype": "text/x-python",
   "name": "python",
   "nbconvert_exporter": "python",
   "pygments_lexer": "ipython3",
   "version": "3.8.20"
  }
 },
 "nbformat": 4,
 "nbformat_minor": 2
}
